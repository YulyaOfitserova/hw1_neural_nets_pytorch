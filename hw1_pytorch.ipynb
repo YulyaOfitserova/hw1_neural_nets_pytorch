{
  "nbformat": 4,
  "nbformat_minor": 0,
  "metadata": {
    "colab": {
      "provenance": []
    },
    "kernelspec": {
      "name": "python3",
      "display_name": "Python 3"
    },
    "language_info": {
      "name": "python"
    }
  },
  "cells": [
    {
      "cell_type": "code",
      "execution_count": 1,
      "metadata": {
        "colab": {
          "base_uri": "https://localhost:8080/"
        },
        "id": "VPtI25sRE1da",
        "outputId": "845890a1-2fbe-4921-9543-3e708f164262"
      },
      "outputs": [
        {
          "output_type": "stream",
          "name": "stdout",
          "text": [
            "Looking in indexes: https://pypi.org/simple, https://us-python.pkg.dev/colab-wheels/public/simple/\n",
            "Requirement already satisfied: torch in /usr/local/lib/python3.9/dist-packages (1.13.1+cu116)\n",
            "Requirement already satisfied: torchvision in /usr/local/lib/python3.9/dist-packages (0.14.1+cu116)\n",
            "Requirement already satisfied: typing-extensions in /usr/local/lib/python3.9/dist-packages (from torch) (4.5.0)\n",
            "Requirement already satisfied: pillow!=8.3.*,>=5.3.0 in /usr/local/lib/python3.9/dist-packages (from torchvision) (8.4.0)\n",
            "Requirement already satisfied: requests in /usr/local/lib/python3.9/dist-packages (from torchvision) (2.25.1)\n",
            "Requirement already satisfied: numpy in /usr/local/lib/python3.9/dist-packages (from torchvision) (1.22.4)\n",
            "Requirement already satisfied: urllib3<1.27,>=1.21.1 in /usr/local/lib/python3.9/dist-packages (from requests->torchvision) (1.26.15)\n",
            "Requirement already satisfied: chardet<5,>=3.0.2 in /usr/local/lib/python3.9/dist-packages (from requests->torchvision) (4.0.0)\n",
            "Requirement already satisfied: certifi>=2017.4.17 in /usr/local/lib/python3.9/dist-packages (from requests->torchvision) (2022.12.7)\n",
            "Requirement already satisfied: idna<3,>=2.5 in /usr/local/lib/python3.9/dist-packages (from requests->torchvision) (2.10)\n"
          ]
        }
      ],
      "source": [
        "!pip3 install torch torchvision"
      ]
    },
    {
      "cell_type": "code",
      "source": [
        "from IPython import display\n",
        "import numpy as np\n",
        "import random\n",
        "import torch"
      ],
      "metadata": {
        "id": "6H1KyCZ_FREn"
      },
      "execution_count": 2,
      "outputs": []
    },
    {
      "cell_type": "markdown",
      "source": [
        "Создайте случайный FloatTensor размера 3x4x5"
      ],
      "metadata": {
        "id": "n__hBt_iFF8G"
      }
    },
    {
      "cell_type": "code",
      "source": [
        "a = torch.FloatTensor(3, 4, 5)\n",
        "a"
      ],
      "metadata": {
        "colab": {
          "base_uri": "https://localhost:8080/"
        },
        "id": "ySW5G13JFM5J",
        "outputId": "0bd24d01-fd5c-42c9-b145-fd5522e3e413"
      },
      "execution_count": 3,
      "outputs": [
        {
          "output_type": "execute_result",
          "data": {
            "text/plain": [
              "tensor([[[3.2241e-35, 0.0000e+00, 0.0000e+00, 0.0000e+00, 1.4013e-45],\n",
              "         [5.6052e-45, 1.4013e-45, 2.9427e-44, 1.5316e-42, 0.0000e+00],\n",
              "         [1.4013e-45, 0.0000e+00, 1.4013e-45, 4.2039e-44, 0.0000e+00],\n",
              "         [0.0000e+00, 0.0000e+00, 0.0000e+00, 1.4013e-45, 0.0000e+00]],\n",
              "\n",
              "        [[3.2239e-35, 0.0000e+00, 3.2241e-35, 0.0000e+00, 1.5344e-42],\n",
              "         [0.0000e+00, 3.2241e-35, 0.0000e+00, 9.8091e-45, 0.0000e+00],\n",
              "         [3.2241e-35, 0.0000e+00, 1.5358e-42, 0.0000e+00, 3.2241e-35],\n",
              "         [0.0000e+00, 9.8091e-45, 0.0000e+00, 3.2241e-35, 0.0000e+00]],\n",
              "\n",
              "        [[1.5372e-42, 0.0000e+00, 3.2241e-35, 0.0000e+00, 9.8091e-45],\n",
              "         [0.0000e+00, 3.2241e-35, 0.0000e+00, 1.5386e-42, 0.0000e+00],\n",
              "         [3.2241e-35, 0.0000e+00, 9.8091e-45, 0.0000e+00, 3.2241e-35],\n",
              "         [0.0000e+00, 1.5442e-42, 0.0000e+00, 3.2241e-35, 0.0000e+00]]])"
            ]
          },
          "metadata": {},
          "execution_count": 3
        }
      ]
    },
    {
      "cell_type": "markdown",
      "source": [
        "Выведите его форму (shape)"
      ],
      "metadata": {
        "id": "7HkIvr2gGAwy"
      }
    },
    {
      "cell_type": "code",
      "source": [
        "a.shape"
      ],
      "metadata": {
        "colab": {
          "base_uri": "https://localhost:8080/"
        },
        "id": "lJVm7V-fGBpU",
        "outputId": "f21e56cb-d3be-42b4-8d23-6a9a55e8f942"
      },
      "execution_count": 4,
      "outputs": [
        {
          "output_type": "execute_result",
          "data": {
            "text/plain": [
              "torch.Size([3, 4, 5])"
            ]
          },
          "metadata": {},
          "execution_count": 4
        }
      ]
    },
    {
      "cell_type": "markdown",
      "source": [
        "Приведите его к форме 6х10"
      ],
      "metadata": {
        "id": "HQfGohIlGH8N"
      }
    },
    {
      "cell_type": "code",
      "source": [
        "c = a.reshape(6, 10)\n",
        "c"
      ],
      "metadata": {
        "colab": {
          "base_uri": "https://localhost:8080/"
        },
        "id": "x1XsAnz6GKuf",
        "outputId": "2b373539-4726-40e7-b313-37611fb1ff6e"
      },
      "execution_count": 5,
      "outputs": [
        {
          "output_type": "execute_result",
          "data": {
            "text/plain": [
              "tensor([[3.2241e-35, 0.0000e+00, 0.0000e+00, 0.0000e+00, 1.4013e-45, 5.6052e-45,\n",
              "         1.4013e-45, 2.9427e-44, 1.5316e-42, 0.0000e+00],\n",
              "        [1.4013e-45, 0.0000e+00, 1.4013e-45, 4.2039e-44, 0.0000e+00, 0.0000e+00,\n",
              "         0.0000e+00, 0.0000e+00, 1.4013e-45, 0.0000e+00],\n",
              "        [3.2239e-35, 0.0000e+00, 3.2241e-35, 0.0000e+00, 1.5344e-42, 0.0000e+00,\n",
              "         3.2241e-35, 0.0000e+00, 9.8091e-45, 0.0000e+00],\n",
              "        [3.2241e-35, 0.0000e+00, 1.5358e-42, 0.0000e+00, 3.2241e-35, 0.0000e+00,\n",
              "         9.8091e-45, 0.0000e+00, 3.2241e-35, 0.0000e+00],\n",
              "        [1.5372e-42, 0.0000e+00, 3.2241e-35, 0.0000e+00, 9.8091e-45, 0.0000e+00,\n",
              "         3.2241e-35, 0.0000e+00, 1.5386e-42, 0.0000e+00],\n",
              "        [3.2241e-35, 0.0000e+00, 9.8091e-45, 0.0000e+00, 3.2241e-35, 0.0000e+00,\n",
              "         1.5442e-42, 0.0000e+00, 3.2241e-35, 0.0000e+00]])"
            ]
          },
          "metadata": {},
          "execution_count": 5
        }
      ]
    },
    {
      "cell_type": "markdown",
      "source": [
        "Создайте случайный IntTensor размера 10"
      ],
      "metadata": {
        "id": "qQ7m6kwmGyRr"
      }
    },
    {
      "cell_type": "code",
      "source": [
        "b =  torch.IntTensor(10)\n",
        "b"
      ],
      "metadata": {
        "colab": {
          "base_uri": "https://localhost:8080/"
        },
        "id": "7xDzlKCBG0-a",
        "outputId": "33c25b50-f042-4ee0-892f-f37afaf5a46f"
      },
      "execution_count": 6,
      "outputs": [
        {
          "output_type": "execute_result",
          "data": {
            "text/plain": [
              "tensor([-1055015824,       32666,   103520912,           0,       65536,\n",
              "              65537,       65537,       65537,       65537,       65537],\n",
              "       dtype=torch.int32)"
            ]
          },
          "metadata": {},
          "execution_count": 6
        }
      ]
    },
    {
      "cell_type": "markdown",
      "source": [
        "Умножьте созданный FloatTensor на созданный IntTensor поэлементно"
      ],
      "metadata": {
        "id": "XVLE9krQHF2t"
      }
    },
    {
      "cell_type": "code",
      "source": [
        "d = b.mul(c)\n",
        "d"
      ],
      "metadata": {
        "colab": {
          "base_uri": "https://localhost:8080/"
        },
        "id": "pzrcMnkQHFJV",
        "outputId": "effbeef5-978b-4a1b-cea6-3c8e0fa8cf11"
      },
      "execution_count": 7,
      "outputs": [
        {
          "output_type": "execute_result",
          "data": {
            "text/plain": [
              "tensor([[-3.4014e-26,  0.0000e+00,  0.0000e+00,  0.0000e+00,  9.1835e-41,\n",
              "          3.6735e-40,  9.1837e-41,  1.9286e-39,  1.0038e-37,  0.0000e+00],\n",
              "        [-1.4784e-36,  0.0000e+00,  1.4506e-37,  0.0000e+00,  0.0000e+00,\n",
              "          0.0000e+00,  0.0000e+00,  0.0000e+00,  9.1837e-41,  0.0000e+00],\n",
              "        [-3.4013e-26,  0.0000e+00,  3.3376e-27,  0.0000e+00,  1.0056e-37,\n",
              "          0.0000e+00,  2.1130e-30,  0.0000e+00,  6.4286e-40,  0.0000e+00],\n",
              "        [-3.4015e-26,  0.0000e+00,  1.5899e-34,  0.0000e+00,  2.1130e-30,\n",
              "          0.0000e+00,  6.4286e-40,  0.0000e+00,  2.1130e-30,  0.0000e+00],\n",
              "        [-1.6218e-33,  0.0000e+00,  3.3377e-27,  0.0000e+00,  6.4285e-40,\n",
              "          0.0000e+00,  2.1130e-30,  0.0000e+00,  1.0084e-37,  0.0000e+00],\n",
              "        [-3.4015e-26,  0.0000e+00,  1.0154e-36,  0.0000e+00,  2.1130e-30,\n",
              "          0.0000e+00,  1.0120e-37,  0.0000e+00,  2.1130e-30,  0.0000e+00]])"
            ]
          },
          "metadata": {},
          "execution_count": 7
        }
      ]
    },
    {
      "cell_type": "markdown",
      "source": [
        "Умножьте тензор матрично на себя, чтобы результат был размерности 6x6 Подсказка: .dot может не подойти"
      ],
      "metadata": {
        "id": "idTAaf-jIQRp"
      }
    },
    {
      "cell_type": "code",
      "source": [
        "z = c.t()\n",
        "e = torch.matmul(c, z)\n",
        "e"
      ],
      "metadata": {
        "colab": {
          "base_uri": "https://localhost:8080/"
        },
        "id": "87mYMVx3ISHC",
        "outputId": "51f8ad16-d3d8-44f6-a95a-fa2b2a8110c2"
      },
      "execution_count": 12,
      "outputs": [
        {
          "output_type": "execute_result",
          "data": {
            "text/plain": [
              "tensor([[0., 0., 0., 0., 0., 0.],\n",
              "        [0., 0., 0., 0., 0., 0.],\n",
              "        [0., 0., 0., 0., 0., 0.],\n",
              "        [0., 0., 0., 0., 0., 0.],\n",
              "        [0., 0., 0., 0., 0., 0.],\n",
              "        [0., 0., 0., 0., 0., 0.]])"
            ]
          },
          "metadata": {},
          "execution_count": 12
        }
      ]
    },
    {
      "cell_type": "code",
      "source": [
        "z"
      ],
      "metadata": {
        "colab": {
          "base_uri": "https://localhost:8080/"
        },
        "id": "JvWqroc3K62b",
        "outputId": "9591dc70-347c-4897-de1c-617923ad0464"
      },
      "execution_count": 13,
      "outputs": [
        {
          "output_type": "execute_result",
          "data": {
            "text/plain": [
              "tensor([[3.2241e-35, 1.4013e-45, 3.2239e-35, 3.2241e-35, 1.5372e-42, 3.2241e-35],\n",
              "        [0.0000e+00, 0.0000e+00, 0.0000e+00, 0.0000e+00, 0.0000e+00, 0.0000e+00],\n",
              "        [0.0000e+00, 1.4013e-45, 3.2241e-35, 1.5358e-42, 3.2241e-35, 9.8091e-45],\n",
              "        [0.0000e+00, 4.2039e-44, 0.0000e+00, 0.0000e+00, 0.0000e+00, 0.0000e+00],\n",
              "        [1.4013e-45, 0.0000e+00, 1.5344e-42, 3.2241e-35, 9.8091e-45, 3.2241e-35],\n",
              "        [5.6052e-45, 0.0000e+00, 0.0000e+00, 0.0000e+00, 0.0000e+00, 0.0000e+00],\n",
              "        [1.4013e-45, 0.0000e+00, 3.2241e-35, 9.8091e-45, 3.2241e-35, 1.5442e-42],\n",
              "        [2.9427e-44, 0.0000e+00, 0.0000e+00, 0.0000e+00, 0.0000e+00, 0.0000e+00],\n",
              "        [1.5316e-42, 1.4013e-45, 9.8091e-45, 3.2241e-35, 1.5386e-42, 3.2241e-35],\n",
              "        [0.0000e+00, 0.0000e+00, 0.0000e+00, 0.0000e+00, 0.0000e+00, 0.0000e+00]])"
            ]
          },
          "metadata": {},
          "execution_count": 13
        }
      ]
    },
    {
      "cell_type": "markdown",
      "source": [
        "Посчитайте производную функции y = x**3 + z - 75t в точке (1, 0.5, 2)"
      ],
      "metadata": {
        "id": "FyRw_l6QK_7y"
      }
    },
    {
      "cell_type": "code",
      "source": [
        "x=torch.tensor([1.0],requires_grad=True)\n",
        "z=torch.tensor([0.5],requires_grad=True)\n",
        "t=torch.tensor([2.0],requires_grad=True)\n",
        " \n",
        "y= torch.pow(x,3) + z - 75*t \n",
        " \n",
        "torch.autograd.backward([y]) \n",
        " \n",
        "print(x.grad)   \n",
        "print(z.grad)\n",
        "print(t.grad)"
      ],
      "metadata": {
        "colab": {
          "base_uri": "https://localhost:8080/"
        },
        "id": "Hv64QXTqLGuU",
        "outputId": "6d2f49a5-e317-45bd-ffd3-559fc01bdeba"
      },
      "execution_count": 26,
      "outputs": [
        {
          "output_type": "stream",
          "name": "stdout",
          "text": [
            "tensor([3.])\n",
            "tensor([1.])\n",
            "tensor([-75.])\n"
          ]
        }
      ]
    },
    {
      "cell_type": "markdown",
      "source": [
        "Создайте единичный тензор размера 5x6"
      ],
      "metadata": {
        "id": "5t4qFQLLMY4Y"
      }
    },
    {
      "cell_type": "code",
      "source": [
        "q  = torch.eye(5, 6)\n",
        "q"
      ],
      "metadata": {
        "colab": {
          "base_uri": "https://localhost:8080/"
        },
        "id": "9C_Ffke0McTS",
        "outputId": "9b610014-ec34-4ccb-a309-d2fbbca7daf4"
      },
      "execution_count": 16,
      "outputs": [
        {
          "output_type": "execute_result",
          "data": {
            "text/plain": [
              "tensor([[1., 0., 0., 0., 0., 0.],\n",
              "        [0., 1., 0., 0., 0., 0.],\n",
              "        [0., 0., 1., 0., 0., 0.],\n",
              "        [0., 0., 0., 1., 0., 0.],\n",
              "        [0., 0., 0., 0., 1., 0.]])"
            ]
          },
          "metadata": {},
          "execution_count": 16
        }
      ]
    },
    {
      "cell_type": "markdown",
      "source": [
        "Переведите его в формат numpy"
      ],
      "metadata": {
        "id": "AwxgxaX1Ncaw"
      }
    },
    {
      "cell_type": "code",
      "source": [
        "w = q.numpy() \n",
        "w"
      ],
      "metadata": {
        "colab": {
          "base_uri": "https://localhost:8080/"
        },
        "id": "g0BZmZeuNexc",
        "outputId": "99bd7542-847d-42e8-ce9c-c52dce6d0a90"
      },
      "execution_count": 17,
      "outputs": [
        {
          "output_type": "execute_result",
          "data": {
            "text/plain": [
              "array([[1., 0., 0., 0., 0., 0.],\n",
              "       [0., 1., 0., 0., 0., 0.],\n",
              "       [0., 0., 1., 0., 0., 0.],\n",
              "       [0., 0., 0., 1., 0., 0.],\n",
              "       [0., 0., 0., 0., 1., 0.]], dtype=float32)"
            ]
          },
          "metadata": {},
          "execution_count": 17
        }
      ]
    }
  ]
}